{
 "cells": [
  {
   "cell_type": "markdown",
   "metadata": {},
   "source": [
    "\n",
    "# CIS024C - Summer 2018\n",
    "\n",
    "## Homework 6\n",
    "\n",
    "Homework 6 covers exercises that involve working with files\n",
    "\n",
    "The below sites have some interesting and useful information on working with files\n",
    "\n",
    "http://www.pythonforbeginners.com/files/reading-and-writing-files-in-python\n",
    "\n",
    "You will need to download this notebook and use this as a starting point for your homework. You will just need to fill in the content of each code-block (cell) and execute. Once you have completed all the exercises, you will need to save and upload this to your github repository under a folder called hw5.\n",
    "\n",
    "Note also the exercises build on top of one another so you might be able to do the next exercise if you have not completed the previous exercise.\n",
    "\n",
    "Post any questions you have on our Slack at **cis-024c1.slack.com**\n",
    "\n",
    "** Slides ** for Week 5 can be found at \n",
    "\n",
    "https://docs.google.com/presentation/d/16cRqqIoZl15gX5QC2oEvS8NuUiPrhzOyC5UerGpuWOM/edit?usp=sharing\n",
    "\n",
    "**Please refer back to hw1 and slack for instructions on how to setup your computer for developing using Python.**"
   ]
  },
  {
   "cell_type": "markdown",
   "metadata": {},
   "source": [
    "### Helpful Jupyter Commands\n",
    "\n",
    "Below are some useful commands to know when using Jupyter\n",
    "\n",
    "1. You can add a new cell by clicking on the \"+\" icon on top.\n",
    "2. You can delete a cell by selecting that cell and clicking on the \"scissors\" icon on top.\n",
    "3. You can execute a cell by either pressing shift+enter or selecting the \"play\" button on top.\n",
    "4. You can create a new file in Jupyter via the File menu->New Notebook option. Make sure to select Python 2 when creating your notebook.\n",
    "5. Also, for your code blocks make sure that Code is selected instead of another option like Markdown.\n",
    "6. Use the Enter key to go to the next line in a cell to enter the next statement.\n",
    "7. You can clear results by clicking on the Cell menu item and selecting Current Output->Clear or All Output->Clear depending on whether you are trying to just clear the output for one cell or for all cells.\n",
    "8. In case your program has crashed for some reason (infinite loop, for example), you can restart your Python session by select Kernel in the menu and selecting Restart.\n"
   ]
  },
  {
   "cell_type": "markdown",
   "metadata": {},
   "source": [
    "#### Check Python Version"
   ]
  },
  {
   "cell_type": "code",
   "execution_count": 1,
   "metadata": {},
   "outputs": [
    {
     "name": "stdout",
     "output_type": "stream",
     "text": [
      "Python 3.6.5 :: Anaconda, Inc.\r\n"
     ]
    }
   ],
   "source": [
    "!python --version"
   ]
  },
  {
   "cell_type": "markdown",
   "metadata": {},
   "source": [
    "#### Sample Exercises with conditionals and repetitions\n",
    "\n",
    "Refer to Week 5 classwork for sample exercises - \n",
    "\n",
    "https://github.com/cis024c/fall2017classwork/tree/master/week5"
   ]
  },
  {
   "cell_type": "markdown",
   "metadata": {},
   "source": [
    "**Exercise 1 - Testing your knowledge of files **\n",
    "\n",
    "Answer the below questions\n",
    "\n",
    "1. In your own words, describe what a **file** is?\n",
    "2. Why is it important to close a file after we are done using it?"
   ]
  },
  {
   "cell_type": "markdown",
   "metadata": {},
   "source": [
    "Question 1\n",
    "\n",
    "A file is a collection of data that can be transformed into another file. \n",
    "\n",
    "Question 2\n",
    "\n",
    "It is important to close a file after we are done using it because there is a limited number of handles. \n"
   ]
  },
  {
   "cell_type": "markdown",
   "metadata": {},
   "source": [
    "#### Exercise 2 -  Write to a file\n",
    "\n",
    "Write a python program to write the below lines to a file\n",
    "\n",
    "- Name, Age, Gender, Profession\n",
    "- Harry, 23, Male, Software Engineer\n",
    "- Sam, 25, Male, Lawyer\n",
    "- Lisa, 29, Female, Computer Scientist\n",
    "- Mary, 22, Female, Doctor\n",
    "\n",
    "Below are a set of recommended steps to accomplish this\n",
    "1. open a file in write mode. This will return a handle to the file\n",
    "2. use the write method to write each line to the file using the file handle returned in the open call\n",
    "3. close the file when done\n",
    "\n",
    "Once done, go to the folder where the file is and open it to make sure that this is written.\n",
    "\n",
    "Refer to class exercises especially \"In [22]\" in https://github.com/cis024c/fall2017classwork/blob/master/week5/working_with_files.ipynb"
   ]
  },
  {
   "cell_type": "code",
   "execution_count": 25,
   "metadata": {},
   "outputs": [
    {
     "ename": "NameError",
     "evalue": "name 'my' is not defined",
     "output_type": "error",
     "traceback": [
      "\u001b[0;31m---------------------------------------------------------------------------\u001b[0m",
      "\u001b[0;31mNameError\u001b[0m                                 Traceback (most recent call last)",
      "\u001b[0;32m<ipython-input-25-b64ad9eed548>\u001b[0m in \u001b[0;36m<module>\u001b[0;34m()\u001b[0m\n\u001b[1;32m     12\u001b[0m \u001b[0mmyFile1\u001b[0m\u001b[0;34m.\u001b[0m\u001b[0mwrite\u001b[0m\u001b[0;34m(\u001b[0m\u001b[0;34m\"Maey, 22, Female, Doctor\\n\"\u001b[0m\u001b[0;34m)\u001b[0m\u001b[0;34m\u001b[0m\u001b[0m\n\u001b[1;32m     13\u001b[0m \u001b[0;34m\u001b[0m\u001b[0m\n\u001b[0;32m---> 14\u001b[0;31m \u001b[0mmy\u001b[0m\u001b[0;34m\u001b[0m\u001b[0m\n\u001b[0m\u001b[1;32m     15\u001b[0m \u001b[0;34m\u001b[0m\u001b[0m\n\u001b[1;32m     16\u001b[0m \u001b[0;31m### END CODE\u001b[0m\u001b[0;34m\u001b[0m\u001b[0;34m\u001b[0m\u001b[0m\n",
      "\u001b[0;31mNameError\u001b[0m: name 'my' is not defined"
     ]
    }
   ],
   "source": [
    "### YOUR CODE GOES \n",
    "myFile1 = open(\"myFile1.txt\",\"w\")\n",
    "\n",
    "myFile1.write(\"Name, Age, Gender, Profession\\n\")\n",
    "\n",
    "myFile1.write(\"Harry, 23, Male, Software Engineer\\n\")\n",
    "\n",
    "myFile1.write(\"Sam, 25, Male, Lawyer\\n\")\n",
    "\n",
    "myFile1.write(\"Lisa, 29, Female, Computer Scientist\\n\")\n",
    "\n",
    "myFile1.write(\"Maey, 22, Female, Doctor\\n\")\n",
    "\n",
    "my\n",
    "\n",
    "### END CODE"
   ]
  },
  {
   "cell_type": "code",
   "execution_count": 26,
   "metadata": {},
   "outputs": [],
   "source": [
    "### YOUR CODE GOES \n",
    "myFile1 = open(\"myFile1.txt\",\"w\")\n",
    "\n",
    "myFile1.write(\"Name, Age, Gender, Profession\\n\")\n",
    "\n",
    "myFile1.write(\"Harry, 23, Male, Software Engineer\\n\")\n",
    "\n",
    "myFile1.write(\"Sam, 25, Male, Lawyer\\n\")\n",
    "\n",
    "myFile1.write(\"Lisa, 29, Female, Computer Scientist\\n\")\n",
    "\n",
    "myFile1.write(\"Mary, 22, Female, Doctor\\n\")\n",
    "\n",
    "myFile1.close()\n",
    "\n",
    "### END CODE"
   ]
  },
  {
   "cell_type": "markdown",
   "metadata": {},
   "source": [
    "#### Exercise 3 - Reading from a file\n",
    "\n",
    "Read and display the data from the file you had just written to.\n",
    "\n",
    "Below are a set of recommended steps to accomplish this\n",
    "1. open the file in read mode. This will return a handle to the file.\n",
    "2. You can now iterate through each line in the file  and then use readline to read each line.\n",
    "3. Display each line as you read it in\n",
    "\n",
    "Note that you can also use the **read** method to read in all lines or the **readlines** method to read all lines into a list."
   ]
  },
  {
   "cell_type": "code",
   "execution_count": 27,
   "metadata": {},
   "outputs": [
    {
     "ename": "UnsupportedOperation",
     "evalue": "not writable",
     "output_type": "error",
     "traceback": [
      "\u001b[0;31m---------------------------------------------------------------------------\u001b[0m",
      "\u001b[0;31mUnsupportedOperation\u001b[0m                      Traceback (most recent call last)",
      "\u001b[0;32m<ipython-input-27-b54ded8ee410>\u001b[0m in \u001b[0;36m<module>\u001b[0;34m()\u001b[0m\n\u001b[1;32m      2\u001b[0m \u001b[0mmyFile1\u001b[0m \u001b[0;34m=\u001b[0m \u001b[0mopen\u001b[0m\u001b[0;34m(\u001b[0m\u001b[0;34m\"myFile1.txt\"\u001b[0m\u001b[0;34m,\u001b[0m\u001b[0;34m\"r\"\u001b[0m\u001b[0;34m)\u001b[0m\u001b[0;34m\u001b[0m\u001b[0m\n\u001b[1;32m      3\u001b[0m \u001b[0;34m\u001b[0m\u001b[0m\n\u001b[0;32m----> 4\u001b[0;31m \u001b[0mmyFile1\u001b[0m\u001b[0;34m.\u001b[0m\u001b[0mwrite\u001b[0m\u001b[0;34m(\u001b[0m\u001b[0;34m\"Name, Age, Gender, Profession\\n \"\u001b[0m\u001b[0;34m)\u001b[0m\u001b[0;34m\u001b[0m\u001b[0m\n\u001b[0m\u001b[1;32m      5\u001b[0m \u001b[0;34m\u001b[0m\u001b[0m\n\u001b[1;32m      6\u001b[0m \u001b[0mmyFile1\u001b[0m\u001b[0;34m.\u001b[0m\u001b[0mwrite\u001b[0m\u001b[0;34m(\u001b[0m\u001b[0;34m\"Harry, 23, Male, Software Engineer\\n \"\u001b[0m\u001b[0;34m)\u001b[0m\u001b[0;34m\u001b[0m\u001b[0m\n",
      "\u001b[0;31mUnsupportedOperation\u001b[0m: not writable"
     ]
    }
   ],
   "source": [
    "### YOUR CODE GOES BELOW\n",
    "myFile1 = open(\"myFile1.txt\",\"r\")\n",
    "\n",
    "myFile1.write(\"Name, Age, Gender, Profession\\n \")\n",
    "\n",
    "myFile1.write(\"Harry, 23, Male, Software Engineer\\n \")\n",
    "\n",
    "myFile1.write(\"Name, Age, Gender, Profession\\n \") \n",
    "\n",
    "myFile1.write(\"Sam, 25, Male, Lawyer\\n \")\n",
    "\n",
    "myFile1.write(\"Name, Age, Gender, Profession\\n \")\n",
    "\n",
    "myFile1.write(\"Lisa, 29, Female, Computer Scientist\\n \")\n",
    "\n",
    "myFile1.write(\"Name, Age, Gender, Profession\\n \")\n",
    "\n",
    "myFile1.write(\"Maey, 22, Female, Doctor\\n \")\n",
    "\n",
    "myFile1.close()\n",
    "\n",
    "### END CODE"
   ]
  },
  {
   "cell_type": "code",
   "execution_count": 28,
   "metadata": {},
   "outputs": [
    {
     "ename": "TypeError",
     "evalue": "integer argument expected, got 'str'",
     "output_type": "error",
     "traceback": [
      "\u001b[0;31m---------------------------------------------------------------------------\u001b[0m",
      "\u001b[0;31mTypeError\u001b[0m                                 Traceback (most recent call last)",
      "\u001b[0;32m<ipython-input-28-32b15db9f951>\u001b[0m in \u001b[0;36m<module>\u001b[0;34m()\u001b[0m\n\u001b[1;32m      2\u001b[0m \u001b[0mmyFile1\u001b[0m \u001b[0;34m=\u001b[0m \u001b[0mopen\u001b[0m\u001b[0;34m(\u001b[0m\u001b[0;34m\"myFile1.txt\"\u001b[0m\u001b[0;34m,\u001b[0m\u001b[0;34m\"r\"\u001b[0m\u001b[0;34m)\u001b[0m\u001b[0;34m\u001b[0m\u001b[0m\n\u001b[1;32m      3\u001b[0m \u001b[0;34m\u001b[0m\u001b[0m\n\u001b[0;32m----> 4\u001b[0;31m \u001b[0mmyFile1\u001b[0m\u001b[0;34m.\u001b[0m\u001b[0mread\u001b[0m\u001b[0;34m(\u001b[0m\u001b[0;34m\"Name, Age, Gender, Profession\\n \"\u001b[0m\u001b[0;34m)\u001b[0m\u001b[0;34m\u001b[0m\u001b[0m\n\u001b[0m\u001b[1;32m      5\u001b[0m \u001b[0;34m\u001b[0m\u001b[0m\n\u001b[1;32m      6\u001b[0m \u001b[0mmyFile1\u001b[0m\u001b[0;34m.\u001b[0m\u001b[0mread\u001b[0m\u001b[0;34m(\u001b[0m\u001b[0;34m\"Harry, 23, Male, Software Engineer\\n \"\u001b[0m\u001b[0;34m)\u001b[0m\u001b[0;34m\u001b[0m\u001b[0m\n",
      "\u001b[0;31mTypeError\u001b[0m: integer argument expected, got 'str'"
     ]
    }
   ],
   "source": [
    "### YOUR CODE GOES BELOW\n",
    "myFile1 = open(\"myFile1.txt\",\"r\")\n",
    "\n",
    "myFile1.read(\"Name, Age, Gender, Profession\\n \")\n",
    "\n",
    "myFile1.read(\"Harry, 23, Male, Software Engineer\\n \")\n",
    "\n",
    "myFile1.read(\"Name, Age, Gender, Profession\\n \") \n",
    "\n",
    "myFile1.read(\"Sam, 25, Male, Lawyer\\n \")\n",
    "\n",
    "myFile1.read(\"Name, Age, Gender, Profession\\n \")\n",
    "\n",
    "myFile1.read(\"Lisa, 29, Female, Computer Scientist\\n \")\n",
    "\n",
    "myFile1.read(\"Name, Age, Gender, Profession\\n \")\n",
    "\n",
    "myFile1.read(\"Maey, 22, Female, Doctor\\n \")\n",
    "\n",
    "myFile1.close()\n",
    "\n",
    "### END CODE"
   ]
  },
  {
   "cell_type": "code",
   "execution_count": 29,
   "metadata": {},
   "outputs": [
    {
     "ename": "AttributeError",
     "evalue": "'_io.TextIOWrapper' object has no attribute 'rt'",
     "output_type": "error",
     "traceback": [
      "\u001b[0;31m---------------------------------------------------------------------------\u001b[0m",
      "\u001b[0;31mAttributeError\u001b[0m                            Traceback (most recent call last)",
      "\u001b[0;32m<ipython-input-29-f34e0192bca2>\u001b[0m in \u001b[0;36m<module>\u001b[0;34m()\u001b[0m\n\u001b[1;32m      2\u001b[0m \u001b[0mmyFile1\u001b[0m \u001b[0;34m=\u001b[0m \u001b[0mopen\u001b[0m\u001b[0;34m(\u001b[0m\u001b[0;34m\"myFile1.txt\"\u001b[0m\u001b[0;34m,\u001b[0m\u001b[0;34m\"r\"\u001b[0m\u001b[0;34m)\u001b[0m\u001b[0;34m\u001b[0m\u001b[0m\n\u001b[1;32m      3\u001b[0m \u001b[0;34m\u001b[0m\u001b[0m\n\u001b[0;32m----> 4\u001b[0;31m \u001b[0mmyFile1\u001b[0m\u001b[0;34m.\u001b[0m\u001b[0mrt\u001b[0m\u001b[0;34m(\u001b[0m\u001b[0;34m\"Name, Age, Gender, Profession\\n \"\u001b[0m\u001b[0;34m)\u001b[0m\u001b[0;34m\u001b[0m\u001b[0m\n\u001b[0m\u001b[1;32m      5\u001b[0m \u001b[0;34m\u001b[0m\u001b[0m\n\u001b[1;32m      6\u001b[0m \u001b[0mmyFile1\u001b[0m\u001b[0;34m.\u001b[0m\u001b[0mrt\u001b[0m\u001b[0;34m(\u001b[0m\u001b[0;34m\"Harry, 23, Male, Software Engineer\\n \"\u001b[0m\u001b[0;34m)\u001b[0m\u001b[0;34m\u001b[0m\u001b[0m\n",
      "\u001b[0;31mAttributeError\u001b[0m: '_io.TextIOWrapper' object has no attribute 'rt'"
     ]
    }
   ],
   "source": [
    "### YOUR CODE GOES BELOW\n",
    "myFile1 = open(\"myFile1.txt\",\"r\")\n",
    "\n",
    "myFile1.rt(\"Name, Age, Gender, Profession\\n \")\n",
    "\n",
    "myFile1.rt(\"Harry, 23, Male, Software Engineer\\n \")\n",
    "\n",
    "myFile1.rt(\"Name, Age, Gender, Profession\\n \") \n",
    "\n",
    "myFile1.rt(\"Sam, 25, Male, Lawyer\\n \")\n",
    "\n",
    "myFile1.rt(\"Name, Age, Gender, Profession\\n \")\n",
    "\n",
    "myFile1.rt(\"Lisa, 29, Female, Computer Scientist\\n \")\n",
    "\n",
    "myFile1.rt(\"Name, Age, Gender, Profession\\n \")\n",
    "\n",
    "myFile1.rt(\"Maey, 22, Female, Doctor\\n \")\n",
    "\n",
    "myFile1.close()\n",
    "\n",
    "### END CODE"
   ]
  },
  {
   "cell_type": "code",
   "execution_count": 30,
   "metadata": {},
   "outputs": [
    {
     "ename": "TypeError",
     "evalue": "integer argument expected, got 'str'",
     "output_type": "error",
     "traceback": [
      "\u001b[0;31m---------------------------------------------------------------------------\u001b[0m",
      "\u001b[0;31mTypeError\u001b[0m                                 Traceback (most recent call last)",
      "\u001b[0;32m<ipython-input-30-ac321351dbca>\u001b[0m in \u001b[0;36m<module>\u001b[0;34m()\u001b[0m\n\u001b[1;32m      2\u001b[0m \u001b[0mmyFile1\u001b[0m \u001b[0;34m=\u001b[0m \u001b[0mopen\u001b[0m\u001b[0;34m(\u001b[0m\u001b[0;34m\"myFile1.txt\"\u001b[0m\u001b[0;34m,\u001b[0m\u001b[0;34m\"rt\"\u001b[0m\u001b[0;34m)\u001b[0m\u001b[0;34m\u001b[0m\u001b[0m\n\u001b[1;32m      3\u001b[0m \u001b[0;34m\u001b[0m\u001b[0m\n\u001b[0;32m----> 4\u001b[0;31m \u001b[0mmyFile1\u001b[0m\u001b[0;34m.\u001b[0m\u001b[0mread\u001b[0m\u001b[0;34m(\u001b[0m\u001b[0;34m\"Name, Age, Gender, Profession\\n \"\u001b[0m\u001b[0;34m)\u001b[0m\u001b[0;34m\u001b[0m\u001b[0m\n\u001b[0m\u001b[1;32m      5\u001b[0m \u001b[0;34m\u001b[0m\u001b[0m\n\u001b[1;32m      6\u001b[0m \u001b[0mmyFile1\u001b[0m\u001b[0;34m.\u001b[0m\u001b[0mread\u001b[0m\u001b[0;34m(\u001b[0m\u001b[0;34m\"Harry, 23, Male, Software Engineer\\n \"\u001b[0m\u001b[0;34m)\u001b[0m\u001b[0;34m\u001b[0m\u001b[0m\n",
      "\u001b[0;31mTypeError\u001b[0m: integer argument expected, got 'str'"
     ]
    }
   ],
   "source": [
    "### YOUR CODE GOES BELOW\n",
    "myFile1 = open(\"myFile1.txt\",\"rt\")\n",
    "\n",
    "myFile1.read(\"Name, Age, Gender, Profession\\n \")\n",
    "\n",
    "myFile1.read(\"Harry, 23, Male, Software Engineer\\n \")\n",
    "\n",
    "myFile1.read(\"Name, Age, Gender, Profession\\n \") \n",
    "\n",
    "myFile1.read(\"Sam, 25, Male, Lawyer\\n \")\n",
    "\n",
    "myFile1.read(\"Name, Age, Gender, Profession\\n \")\n",
    "\n",
    "myFile1.read(\"Lisa, 29, Female, Computer Scientist\\n \")\n",
    "\n",
    "myFile1.read(\"Name, Age, Gender, Profession\\n \")\n",
    "\n",
    "myFile1.read(\"Maey, 22, Female, Doctor\\n \")\n",
    "\n",
    "myFile1.close()\n",
    "\n",
    "### END CODE"
   ]
  },
  {
   "cell_type": "code",
   "execution_count": 31,
   "metadata": {},
   "outputs": [
    {
     "name": "stdout",
     "output_type": "stream",
     "text": [
      "Name, Age, Gender, Profession\n",
      "\n"
     ]
    }
   ],
   "source": [
    "### YOUR CODE GOES BELOW\n",
    "myFile1 = open(\"myFile1.txt\",mode = \"r\")\n",
    "\n",
    "myString = myFile1.readline()\n",
    "\n",
    "print(myString)\n",
    "\n",
    "myFile1.close()\n",
    "\n",
    "### END CODE"
   ]
  },
  {
   "cell_type": "code",
   "execution_count": 32,
   "metadata": {},
   "outputs": [
    {
     "ename": "SyntaxError",
     "evalue": "invalid syntax (<ipython-input-32-9abcab788b83>, line 4)",
     "output_type": "error",
     "traceback": [
      "\u001b[0;36m  File \u001b[0;32m\"<ipython-input-32-9abcab788b83>\"\u001b[0;36m, line \u001b[0;32m4\u001b[0m\n\u001b[0;31m    while (myLine = myFile1.readline()):\u001b[0m\n\u001b[0m                  ^\u001b[0m\n\u001b[0;31mSyntaxError\u001b[0m\u001b[0;31m:\u001b[0m invalid syntax\n"
     ]
    }
   ],
   "source": [
    "### YOUR CODE GOES BELOW\n",
    "myFile1 = open(\"myFile1.txt\",mode = \"r\")\n",
    "\n",
    "while (myLine = myFile1.readline()): \n",
    "    print(myLine)\n",
    "\n",
    "myFile1.close()\n",
    "\n",
    "### END CODE"
   ]
  },
  {
   "cell_type": "code",
   "execution_count": 33,
   "metadata": {},
   "outputs": [
    {
     "name": "stdout",
     "output_type": "stream",
     "text": [
      "Name, Age, Gender, Profession\n",
      "Harry, 23, Male, Software Engineer\n",
      "Sam, 25, Male, Lawyer\n",
      "Lisa, 29, Female, Computer Scientist\n",
      "Mary, 22, Female, Doctor\n"
     ]
    }
   ],
   "source": [
    "### YOUR CODE GOES BELOW\n",
    "myFile1 = open(\"myFile1.txt\",mode = \"r\")\n",
    "\n",
    "for myLine in myFile1: \n",
    "    print(myLine,end = '')\n",
    "\n",
    "myFile1.close()\n",
    "\n",
    "### END CODE"
   ]
  },
  {
   "cell_type": "markdown",
   "metadata": {},
   "source": [
    "#### Exercise 4 - Finding the average age of users in a file\n",
    "\n",
    "Write a python program to find the average age of users in the file you just created.\n",
    "\n",
    "Below are a set of recommended steps to accomplish this\n",
    "1. Open the file in read mode\n",
    "2. Read in each line of the file\n",
    "3. Split each line in the file to get the age\n",
    "4. Find the average age and display it"
   ]
  },
  {
   "cell_type": "code",
   "execution_count": null,
   "metadata": {},
   "outputs": [],
   "source": []
  },
  {
   "cell_type": "code",
   "execution_count": 34,
   "metadata": {},
   "outputs": [
    {
     "ename": "TypeError",
     "evalue": "integer argument expected, got 'str'",
     "output_type": "error",
     "traceback": [
      "\u001b[0;31m---------------------------------------------------------------------------\u001b[0m",
      "\u001b[0;31mTypeError\u001b[0m                                 Traceback (most recent call last)",
      "\u001b[0;32m<ipython-input-34-ffac709c9303>\u001b[0m in \u001b[0;36m<module>\u001b[0;34m()\u001b[0m\n\u001b[1;32m      2\u001b[0m \u001b[0mmyFile1\u001b[0m \u001b[0;34m=\u001b[0m \u001b[0mopen\u001b[0m\u001b[0;34m(\u001b[0m\u001b[0;34m\"myFile1.txt\"\u001b[0m\u001b[0;34m,\u001b[0m\u001b[0mmode\u001b[0m \u001b[0;34m=\u001b[0m \u001b[0;34m\"r\"\u001b[0m\u001b[0;34m)\u001b[0m\u001b[0;34m\u001b[0m\u001b[0m\n\u001b[1;32m      3\u001b[0m \u001b[0;34m\u001b[0m\u001b[0m\n\u001b[0;32m----> 4\u001b[0;31m \u001b[0mmyFile1\u001b[0m\u001b[0;34m.\u001b[0m\u001b[0mread\u001b[0m\u001b[0;34m(\u001b[0m\u001b[0;34m\"Name, Age, Gender, Profession\\n \"\u001b[0m\u001b[0;34m)\u001b[0m\u001b[0;34m\u001b[0m\u001b[0m\n\u001b[0m\u001b[1;32m      5\u001b[0m \u001b[0;34m\u001b[0m\u001b[0m\n\u001b[1;32m      6\u001b[0m \u001b[0mmyFile1\u001b[0m\u001b[0;34m.\u001b[0m\u001b[0mread\u001b[0m\u001b[0;34m(\u001b[0m\u001b[0;34m\"Harry, 23, Male, Software Engineer\\n \"\u001b[0m\u001b[0;34m)\u001b[0m\u001b[0;34m\u001b[0m\u001b[0m\n",
      "\u001b[0;31mTypeError\u001b[0m: integer argument expected, got 'str'"
     ]
    }
   ],
   "source": [
    "### YOUR CODE GOES BELOW\n",
    "myFile1 = open(\"myFile1.txt\",mode = \"r\") \n",
    "\n",
    "myFile1.read(\"Name, Age, Gender, Profession\\n \")\n",
    "\n",
    "myFile1.read(\"Harry, 23, Male, Software Engineer\\n \")\n",
    "\n",
    "myFile[1]\n",
    "\n",
    "myFile1.read(\"Name, Age, Gender, Profession\\n \") \n",
    "\n",
    "myFile1.read(\"Sam, 25, Male, Lawyer\\n \")\n",
    "\n",
    "myFile[1]\n",
    "\n",
    "myFile1.read(\"Name, Age, Gender, Profession\\n \")\n",
    "\n",
    "myFile1.read(\"Lisa, 29, Female, Computer Scientist\\n \")\n",
    "\n",
    "myFile[1]\n",
    "\n",
    "myFile1.read(\"Name, Age, Gender, Profession\\n \")\n",
    "\n",
    "myFile1.read(\"Maey, 22, Female, Doctor\\n \")\n",
    "\n",
    "myFile[1]\n",
    "\n",
    "myFile1.close()\n",
    "\n",
    "average = 23 + 25 + 29 + 22 / 4 \n",
    "\n",
    "print(average)\n",
    "\n",
    "myFile1 = open(\"myFile1.txt\",\"w\")\n",
    "\n",
    "myFile1.write(\"average age:\\n \")\n",
    "\n",
    "### END CODE"
   ]
  },
  {
   "cell_type": "code",
   "execution_count": 27,
   "metadata": {},
   "outputs": [
    {
     "ename": "TypeError",
     "evalue": "integer argument expected, got 'str'",
     "output_type": "error",
     "traceback": [
      "\u001b[0;31m---------------------------------------------------------------------------\u001b[0m",
      "\u001b[0;31mTypeError\u001b[0m                                 Traceback (most recent call last)",
      "\u001b[0;32m<ipython-input-27-ffac709c9303>\u001b[0m in \u001b[0;36m<module>\u001b[0;34m()\u001b[0m\n\u001b[1;32m      2\u001b[0m \u001b[0mmyFile1\u001b[0m \u001b[0;34m=\u001b[0m \u001b[0mopen\u001b[0m\u001b[0;34m(\u001b[0m\u001b[0;34m\"myFile1.txt\"\u001b[0m\u001b[0;34m,\u001b[0m\u001b[0mmode\u001b[0m \u001b[0;34m=\u001b[0m \u001b[0;34m\"r\"\u001b[0m\u001b[0;34m)\u001b[0m\u001b[0;34m\u001b[0m\u001b[0m\n\u001b[1;32m      3\u001b[0m \u001b[0;34m\u001b[0m\u001b[0m\n\u001b[0;32m----> 4\u001b[0;31m \u001b[0mmyFile1\u001b[0m\u001b[0;34m.\u001b[0m\u001b[0mread\u001b[0m\u001b[0;34m(\u001b[0m\u001b[0;34m\"Name, Age, Gender, Profession\\n \"\u001b[0m\u001b[0;34m)\u001b[0m\u001b[0;34m\u001b[0m\u001b[0m\n\u001b[0m\u001b[1;32m      5\u001b[0m \u001b[0;34m\u001b[0m\u001b[0m\n\u001b[1;32m      6\u001b[0m \u001b[0mmyFile1\u001b[0m\u001b[0;34m.\u001b[0m\u001b[0mread\u001b[0m\u001b[0;34m(\u001b[0m\u001b[0;34m\"Harry, 23, Male, Software Engineer\\n \"\u001b[0m\u001b[0;34m)\u001b[0m\u001b[0;34m\u001b[0m\u001b[0m\n",
      "\u001b[0;31mTypeError\u001b[0m: integer argument expected, got 'str'"
     ]
    }
   ],
   "source": [
    "### YOUR CODE GOES BELOW\n",
    "myFile1 = open(\"myFile1.txt\",mode = \"r\") \n",
    "\n",
    "myFile1.read(\"Name, Age, Gender, Profession\\n \")\n",
    "\n",
    "myFile1.read(\"Harry, 23, Male, Software Engineer\\n \")\n",
    "\n",
    "myFile[1]\n",
    "\n",
    "myFile1.read(\"Name, Age, Gender, Profession\\n \") \n",
    "\n",
    "myFile1.read(\"Sam, 25, Male, Lawyer\\n \")\n",
    "\n",
    "myFile[1]\n",
    "\n",
    "myFile1.read(\"Name, Age, Gender, Profession\\n \")\n",
    "\n",
    "myFile1.read(\"Lisa, 29, Female, Computer Scientist\\n \")\n",
    "\n",
    "myFile[1]\n",
    "\n",
    "myFile1.read(\"Name, Age, Gender, Profession\\n \")\n",
    "\n",
    "myFile1.read(\"Maey, 22, Female, Doctor\\n \")\n",
    "\n",
    "myFile[1]\n",
    "\n",
    "myFile1.close()\n",
    "\n",
    "average = 23 + 25 + 29 + 22 / 4 \n",
    "\n",
    "print(average)\n",
    "\n",
    "myFile1 = open(\"myFile1.txt\",\"w\")\n",
    "\n",
    "myFile1.write(\"average age:\\n \")\n",
    "\n",
    "### END CODE"
   ]
  },
  {
   "cell_type": "code",
   "execution_count": 35,
   "metadata": {},
   "outputs": [
    {
     "name": "stdout",
     "output_type": "stream",
     "text": [
      "Average age: 24.75\n"
     ]
    }
   ],
   "source": [
    "### YOUR CODE GOES BELOW\n",
    "\n",
    "myFile1 = open(\"myFile1.txt\",mode = \"r\")\n",
    "\n",
    "totalAge = 0 \n",
    "\n",
    "i = 0 \n",
    "\n",
    "myLine = myFile1.readline() \n",
    "\n",
    "for myLine in myFile1: \n",
    "    #print(myLine,end = '')\n",
    "    myList = myLine.split(',')\n",
    "    age = myList[1]\n",
    "    #print(age)\n",
    "    age = int(age)\n",
    "    totalAge += age\n",
    "    i += 1 \n",
    "    \n",
    "#print(i)\n",
    "\n",
    "averageAge = totalAge / i \n",
    "#print(averageAge)\n",
    "print('Average age:',averageAge)\n",
    "myFile1.close()\n",
    "\n",
    "### END CODE"
   ]
  },
  {
   "cell_type": "markdown",
   "metadata": {},
   "source": [
    "#### Exercise 5 - Appending to a file\n",
    "\n",
    "Write a python program to append information provided by users to an existing file. \n",
    "\n",
    "You will need to \n",
    "1.  ask the user to enter their name, age, gender and profession using the **raw_input** method (for Python 3 users, you will use the **input** method).\n",
    "2.  open the file you just created in the above exercies in append mode and write this information to the file.\n",
    "\n",
    "Remember to make sure that the information you append is entered in the same format where each field is separated by commas.\n",
    "\n"
   ]
  },
  {
   "cell_type": "code",
   "execution_count": null,
   "metadata": {},
   "outputs": [],
   "source": [
    "### YOUR CODE GOES BELOW\n",
    "input(\"Enter your name: \")\n",
    "\n",
    "input(\"Enter your age: \")\n",
    "\n",
    "input(\"Enter your gender: \")\n",
    "\n",
    "input(\"Enter your profession: \")\n",
    "\n",
    "myFile1 = open(\"myFile1.txt\", \"a\") \n",
    "\n",
    "myFile1.apend(\"Enter your name: , Enter your age: , Enter your gender: , Enter your profession: \")\n",
    "\n",
    "myFile1.close()\n",
    "\n",
    "### END CODE"
   ]
  },
  {
   "cell_type": "code",
   "execution_count": 24,
   "metadata": {},
   "outputs": [
    {
     "name": "stdout",
     "output_type": "stream",
     "text": [
      "Enter your name: Ryan\n",
      "Enter your age: 21\n",
      "Enter your gender: Male\n",
      "Enter your profession: Computer Science\n"
     ]
    }
   ],
   "source": [
    "### YOUR CODE GOES BELOW\n",
    "\n",
    "myFile1 = open(\"myFile1.txt\", \"a\") \n",
    "\n",
    "name = input(\"Enter your name: \")\n",
    "\n",
    "age = input(\"Enter your age: \")\n",
    "\n",
    "gender = input(\"Enter your gender: \")\n",
    "\n",
    "profession = input(\"Enter your profession: \")\n",
    "\n",
    "#lines = [name, age, gender, profession]\n",
    "line = (name,', ',age,', ',gender,', ',profession)\n",
    "\n",
    "myFile1.writelines(line)\n",
    "\n",
    "myFile1.close()\n",
    "\n",
    "### END CODE"
   ]
  },
  {
   "cell_type": "markdown",
   "metadata": {},
   "source": [
    "## OPTIONAL EXERCISES\n",
    "\n",
    "Below is a set of optional exercises. These will not be graded but the solutions will be posted. I would strongly encourage you to try these out if you are done with the mandatory homework exercises to improve your understanding of python."
   ]
  },
  {
   "cell_type": "markdown",
   "metadata": {},
   "source": [
    "#### NOTE \n",
    "\n",
    "For this program you will need to download the full text of Alice in Wonderland. This is available at this link http://www.gutenberg.org/files/11/11-0.txt\n",
    "\n",
    "For MAC users, you can download this directly from Jupyter by executing the below cell. Windows users might need to click on the link and download the file and save it to your computer. "
   ]
  },
  {
   "cell_type": "code",
   "execution_count": 6,
   "metadata": {},
   "outputs": [
    {
     "name": "stdout",
     "output_type": "stream",
     "text": [
      "  % Total    % Received % Xferd  Average Speed   Time    Time     Time  Current\n",
      "                                 Dload  Upload   Total   Spent    Left  Speed\n",
      "100  169k  100  169k    0     0   251k      0 --:--:-- --:--:-- --:--:--  251k\n"
     ]
    }
   ],
   "source": [
    "# download alice text\n",
    "!curl 'http://www.gutenberg.org/files/11/11-0.txt' -o aliceText.txt"
   ]
  },
  {
   "cell_type": "markdown",
   "metadata": {},
   "source": [
    "#### Exercise 6\n",
    "\n",
    "Write a program to read the file aliceText.txt and count the number of times that the word \"house\" occurs in the text."
   ]
  },
  {
   "cell_type": "code",
   "execution_count": 7,
   "metadata": {},
   "outputs": [],
   "source": [
    "### YOUR CODE GOES BELOW\n",
    "file = open(\"Alice.txt\") \n",
    "\n",
    "contents = file.read()\n",
    "\n",
    "\n",
    "\n",
    "### END CODE"
   ]
  },
  {
   "cell_type": "markdown",
   "metadata": {},
   "source": [
    "#### Exercise 7\n",
    "\n",
    "Write a python program to read the file aliceText.txt and find \n",
    "\n",
    "* the number of characters in the file\n",
    "* the number of words in the file\n",
    "* the number of lines in the file\n",
    "\n",
    "Display the result"
   ]
  },
  {
   "cell_type": "code",
   "execution_count": 6,
   "metadata": {},
   "outputs": [
    {
     "name": "stdout",
     "output_type": "stream",
     "text": [
      "[]\n"
     ]
    }
   ],
   "source": [
    "### YOUR CODE GOES BELOW\n",
    "file = open(\"Alice.txt\") \n",
    "\n",
    "contents = file.read()\n",
    "\n",
    "lines = file.readlines()\n",
    "\n",
    "len(lines)\n",
    "\n",
    "for line in file: \n",
    "    for word in line.split():\n",
    "        print(word)\n",
    "    \n",
    "### END CODE"
   ]
  },
  {
   "cell_type": "markdown",
   "metadata": {},
   "source": [
    "#### Exercise 8\n",
    "\n",
    "Write a Python program to read the file aliceText.txt and find the top 10 most frequent words in the file. Display the result\n",
    "\n",
    "Below are recommended steps for this program\n",
    "\n",
    "* Read the contents of the file\n",
    "* Initialize a dictionary to maintain the counts of each word\n",
    "* Loop through each word in the file\n",
    "    - If the word is new, then add to dictionary and initialize count to 1 for this word\n",
    "    - If the word is already in the dictionary, then increment the count of that word by 1\n",
    "* Use the **sorted** method to sort all values in descending order  - See the **example** code at the end of this assignment for an example on sorting a dictionary in reverse order by value"
   ]
  },
  {
   "cell_type": "code",
   "execution_count": 25,
   "metadata": {
    "collapsed": true
   },
   "outputs": [],
   "source": [
    "### YOUR CODE GOES BELOW\n",
    "file = open(\"Alice.txt\") \n",
    "\n",
    "contents = file.read()\n",
    "\n",
    "\n",
    "\n",
    "### END CODE"
   ]
  },
  {
   "cell_type": "markdown",
   "metadata": {},
   "source": [
    "#### Example code for sorting a dictionary by value in reverse order"
   ]
  },
  {
   "cell_type": "code",
   "execution_count": 26,
   "metadata": {},
   "outputs": [
    {
     "name": "stdout",
     "output_type": "stream",
     "text": [
      "eight 8\n",
      "seven 7\n",
      "five 5\n",
      "four 4\n",
      "two 2\n",
      "one 1\n"
     ]
    }
   ],
   "source": [
    "myDict = {'seven': 7, 'four': 4, 'one': 1, 'two': 2, 'five': 5, 'eight': 8} \n",
    "sortedDict = sorted(myDict, key=myDict.get, reverse=True)\n",
    "\n",
    "for key in sortedDict:\n",
    "    print key,myDict[key]"
   ]
  },
  {
   "cell_type": "code",
   "execution_count": null,
   "metadata": {
    "collapsed": true
   },
   "outputs": [],
   "source": []
  }
 ],
 "metadata": {
  "kernelspec": {
   "display_name": "Python 3",
   "language": "python",
   "name": "python3"
  },
  "language_info": {
   "codemirror_mode": {
    "name": "ipython",
    "version": 3
   },
   "file_extension": ".py",
   "mimetype": "text/x-python",
   "name": "python",
   "nbconvert_exporter": "python",
   "pygments_lexer": "ipython3",
   "version": "3.6.5"
  }
 },
 "nbformat": 4,
 "nbformat_minor": 2
}
