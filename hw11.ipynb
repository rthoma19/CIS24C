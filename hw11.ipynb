{
 "cells": [
  {
   "cell_type": "markdown",
   "metadata": {},
   "source": [
    "\n",
    "# CIS024C - Summer 2018\n",
    "\n",
    "## Homework 11\n",
    "\n",
    "Homework 11 covers object oriented programming in Python\n",
    "\n",
    "The below sites have some interesting and useful information on working with files\n",
    "\n",
    "https://drive.google.com/open?id=1OrcpXEmhvgcJxSlchIBsvmXST0lG_uKx\n",
    "http://www.tutorialspoint.com/python/python_classes_objects.htm\n",
    "\n",
    "You will need to download this notebook and use this as a starting point for your homework. You will just need to fill in the content of each code-block (cell) and execute. Once you have completed all the exercises, you will need to save and upload this to your github repository under a folder called hw10.\n",
    "\n",
    "Note also the exercises build on top of one another so you might be able to do the next exercise if you have not completed the previous exercise.\n",
    "\n",
    "Post any questions you have on our Slack at **cis-024c1.slack.com**\n",
    "\n",
    "Slides\n",
    "\n",
    "https://docs.google.com/presentation/d/1AigvCKV1yb3PrrcT5xt3IqyAwGpv6IKMNWYUiQ2Oy6k/edit?usp=sharing\n",
    "\n",
    "**Please refer back to hw1 and slack for instructions on how to setup your computer for developing using Python.**"
   ]
  },
  {
   "cell_type": "markdown",
   "metadata": {},
   "source": [
    "### Helpful Jupyter Commands\n",
    "\n",
    "Below are some useful commands to know when using Jupyter\n",
    "\n",
    "1. You can add a new cell by clicking on the \"+\" icon on top.\n",
    "2. You can delete a cell by selecting that cell and clicking on the \"scissors\" icon on top.\n",
    "3. You can execute a cell by either pressing shift+enter or selecting the \"play\" button on top.\n",
    "4. You can create a new file in Jupyter via the File menu->New Notebook option. Make sure to select Python 2 when creating your notebook.\n",
    "5. Also, for your code blocks make sure that Code is selected instead of another option like Markdown.\n",
    "6. Use the Enter key to go to the next line in a cell to enter the next statement.\n",
    "7. You can clear results by clicking on the Cell menu item and selecting Current Output->Clear or All Output->Clear depending on whether you are trying to just clear the output for one cell or for all cells.\n",
    "8. In case your program has crashed for some reason (infinite loop, for example), you can restart your Python session by select Kernel in the menu and selecting Restart.\n"
   ]
  },
  {
   "cell_type": "markdown",
   "metadata": {},
   "source": [
    "#### Check Python Version"
   ]
  },
  {
   "cell_type": "code",
   "execution_count": null,
   "metadata": {},
   "outputs": [],
   "source": [
    "!python --version"
   ]
  },
  {
   "cell_type": "markdown",
   "metadata": {},
   "source": [
    "**Exercise 1 - Testing your knowledge of object oriented programming concepts **\n",
    "\n",
    "Answer the below questions\n",
    "\n",
    "1. Why do we need classes?\n",
    "2. What is encapsulation?"
   ]
  },
  {
   "cell_type": "markdown",
   "metadata": {},
   "source": [
    "Question 1 \n",
    "\n",
    "We need classes because we need to find the oject oriented of the program. \n",
    "\n",
    "Question 2 \n",
    "\n",
    "Encapsulation is used to access methods and variables. "
   ]
  },
  {
   "cell_type": "markdown",
   "metadata": {},
   "source": [
    "** Exercise 2 - Class creation **\n",
    "\n",
    "Create a Python class named **Employee** with the following attributes and methods\n",
    "\n",
    "Data members\n",
    "```\n",
    "1. employeeName  - type string\n",
    "2. employeeAge  - type int\n",
    "3. employeeSalary - type float\n",
    "```\n",
    "\n",
    "Methods:\n",
    "```\n",
    "1. getEmployee - returns employee name\n",
    "2. getEmployeeAge - gets the employee age\n",
    "3. getEmployeeSalary - returns the employee salary\n",
    "4. __init__ - initialize method accepts the name, age and salary of the employee\n",
    "```\n",
    "\n",
    "Create an object of type Employee and initialize with arbitrary values. Invoke the get methods and display the result."
   ]
  },
  {
   "cell_type": "code",
   "execution_count": 26,
   "metadata": {},
   "outputs": [],
   "source": [
    "### YOUR CODE GOES BELOW\n",
    "class Employee (object):\n",
    "    \n",
    "    def __init__(self,employeeName,employeeAge,employeeSalary): \n",
    "        self.employeeName = employeeName\n",
    "        self.employeeAge = employeeAge\n",
    "        self.employeeSalary = employeeSalary\n",
    "        \n",
    "    def setName(self,employeeName): \n",
    "        self.employeeName = employeeName\n",
    "        \n",
    "    def setAge(self,employeeAge): \n",
    "        self.employeeAge = employeeAge \n",
    "        \n",
    "    def setSalary(self,employeeSalary): \n",
    "        self.employeeSalary = employeeSalary\n",
    "        \n",
    "### END CODE"
   ]
  },
  {
   "cell_type": "code",
   "execution_count": 27,
   "metadata": {},
   "outputs": [],
   "source": [
    "employee1 = Employee(\"Ryan\",21,\"10000.30\")"
   ]
  },
  {
   "cell_type": "code",
   "execution_count": 28,
   "metadata": {},
   "outputs": [
    {
     "name": "stdout",
     "output_type": "stream",
     "text": [
      "Ryan\n",
      "21\n",
      "10000.30\n"
     ]
    }
   ],
   "source": [
    "print(employee1.employeeName)\n",
    "print(employee1.employeeAge)\n",
    "print(employee1.employeeSalary)"
   ]
  },
  {
   "cell_type": "markdown",
   "metadata": {},
   "source": [
    "#### Exercise 3 - Private members\n",
    "\n",
    "In the above **Employee** class make the employeeName, employeeAge and employeeSalary private so that their access is restricted to only within the class."
   ]
  },
  {
   "cell_type": "code",
   "execution_count": 29,
   "metadata": {},
   "outputs": [
    {
     "ename": "IndentationError",
     "evalue": "unexpected indent (<ipython-input-29-024463ebe080>, line 3)",
     "output_type": "error",
     "traceback": [
      "\u001b[0;36m  File \u001b[0;32m\"<ipython-input-29-024463ebe080>\"\u001b[0;36m, line \u001b[0;32m3\u001b[0m\n\u001b[0;31m    def __str__(self):\u001b[0m\n\u001b[0m    ^\u001b[0m\n\u001b[0;31mIndentationError\u001b[0m\u001b[0;31m:\u001b[0m unexpected indent\n"
     ]
    }
   ],
   "source": [
    "### YOUR CODE GOES BELOW\n",
    "\n",
    " def __str__(self): \n",
    "        print(self.employeeName)\n",
    "        print(self.employeeAge)\n",
    "        print(self.employeeSalary)\n",
    "\n",
    "### END CODE"
   ]
  },
  {
   "cell_type": "code",
   "execution_count": 30,
   "metadata": {},
   "outputs": [],
   "source": [
    "### YOUR CODE GOES BELOW\n",
    "\n",
    "def __str__(self): \n",
    "        print(self.employeeName)\n",
    "        print(self.employeeAge)\n",
    "        print(self.employeeSalary)\n",
    "        \n",
    "### END CODE"
   ]
  },
  {
   "cell_type": "code",
   "execution_count": 31,
   "metadata": {},
   "outputs": [],
   "source": [
    "employee1 = Employee(\"Ryan\",21,100000.30) "
   ]
  },
  {
   "cell_type": "code",
   "execution_count": 32,
   "metadata": {},
   "outputs": [
    {
     "name": "stdout",
     "output_type": "stream",
     "text": [
      "Ryan\n",
      "21\n",
      "100000.3\n"
     ]
    }
   ],
   "source": [
    "print(employee1.employeeName)\n",
    "print(employee1.employeeAge)\n",
    "print(employee1.employeeSalary)"
   ]
  },
  {
   "cell_type": "markdown",
   "metadata": {},
   "source": [
    "#### Exercise 4 - Adding setters and working with a list of Employees\n",
    "\n",
    "In the **Employee** class add the following methods\n",
    "\n",
    "```\n",
    "1. setEmployeeAge - accepts age and sets it in the object\n",
    "2. setEmployeeName - accepts employee name and sets it in the object\n",
    "3. setEmployeeSalary - accepts employee salary and sets it i nthe object\n",
    "```\n",
    "\n",
    "Create a list of employees called employeeList. Initialize the list with three objects of type Employee. Initialize the object with the values \"None\" for employeeName, 0 for employeeAge and 0 for employeeSalary.\n",
    "\n",
    "Loop  through each employee in the employeeList. Each time, request the user to enter the name, age and salary of a different employee. Use the set methods to set the name, age and salary for each employee in the employeeList.\n",
    "\n",
    "Loop through each employee in the employeeList. Display the name, age and salary of each employee."
   ]
  },
  {
   "cell_type": "code",
   "execution_count": 33,
   "metadata": {},
   "outputs": [
    {
     "ename": "NameError",
     "evalue": "name 'employees' is not defined",
     "output_type": "error",
     "traceback": [
      "\u001b[0;31m---------------------------------------------------------------------------\u001b[0m",
      "\u001b[0;31mNameError\u001b[0m                                 Traceback (most recent call last)",
      "\u001b[0;32m<ipython-input-33-6ccf4f7b03c7>\u001b[0m in \u001b[0;36m<module>\u001b[0;34m()\u001b[0m\n\u001b[1;32m      1\u001b[0m \u001b[0;31m### YOUR CODE GOES BELOW\u001b[0m\u001b[0;34m\u001b[0m\u001b[0;34m\u001b[0m\u001b[0m\n\u001b[0;32m----> 2\u001b[0;31m \u001b[0;32mclass\u001b[0m \u001b[0mEmployee\u001b[0m \u001b[0;34m(\u001b[0m\u001b[0mobject\u001b[0m\u001b[0;34m)\u001b[0m\u001b[0;34m:\u001b[0m\u001b[0;34m\u001b[0m\u001b[0m\n\u001b[0m\u001b[1;32m      3\u001b[0m \u001b[0;34m\u001b[0m\u001b[0m\n\u001b[1;32m      4\u001b[0m     \u001b[0;32mdef\u001b[0m \u001b[0m__init__\u001b[0m\u001b[0;34m(\u001b[0m\u001b[0mself\u001b[0m\u001b[0;34m,\u001b[0m\u001b[0memployeeName\u001b[0m\u001b[0;34m,\u001b[0m\u001b[0memployeeAge\u001b[0m\u001b[0;34m,\u001b[0m\u001b[0memployeeSalary\u001b[0m\u001b[0;34m)\u001b[0m\u001b[0;34m:\u001b[0m\u001b[0;34m\u001b[0m\u001b[0m\n\u001b[1;32m      5\u001b[0m         \u001b[0mself\u001b[0m\u001b[0;34m.\u001b[0m\u001b[0memployeeName\u001b[0m \u001b[0;34m=\u001b[0m \u001b[0memployeeName\u001b[0m\u001b[0;34m\u001b[0m\u001b[0m\n",
      "\u001b[0;32m<ipython-input-33-6ccf4f7b03c7>\u001b[0m in \u001b[0;36mEmployee\u001b[0;34m()\u001b[0m\n\u001b[1;32m     24\u001b[0m         \u001b[0mself\u001b[0m\u001b[0;34m.\u001b[0m\u001b[0mprintEmployeeDetails\u001b[0m\u001b[0;34m(\u001b[0m\u001b[0;34m)\u001b[0m\u001b[0;34m\u001b[0m\u001b[0m\n\u001b[1;32m     25\u001b[0m \u001b[0;34m\u001b[0m\u001b[0m\n\u001b[0;32m---> 26\u001b[0;31m     \u001b[0;32mfor\u001b[0m \u001b[0memployee\u001b[0m \u001b[0;32min\u001b[0m \u001b[0memployees\u001b[0m\u001b[0;34m:\u001b[0m\u001b[0;34m\u001b[0m\u001b[0m\n\u001b[0m\u001b[1;32m     27\u001b[0m         \u001b[0memployee\u001b[0m\u001b[0;34m.\u001b[0m\u001b[0mprintEmployeeDetails\u001b[0m\u001b[0;34m(\u001b[0m\u001b[0;34m)\u001b[0m\u001b[0;34m\u001b[0m\u001b[0m\n\u001b[1;32m     28\u001b[0m \u001b[0;34m\u001b[0m\u001b[0m\n",
      "\u001b[0;31mNameError\u001b[0m: name 'employees' is not defined"
     ]
    }
   ],
   "source": [
    "### YOUR CODE GOES BELOW\n",
    "class Employee (object):\n",
    "    \n",
    "    def __init__(self,employeeName,employeeAge,employeeSalary): \n",
    "        self.employeeName = employeeName\n",
    "        self.employeeAge = employeeAge\n",
    "        self.employeeSalary = employeeSalary\n",
    "        \n",
    "    def setName(self,employeeName): \n",
    "        self.employeeName = employeeName\n",
    "        \n",
    "    def setAge(self,employeeAge): \n",
    "        self.employeeAge = employeeAge \n",
    "        \n",
    "    def setSalary(self,employeeSalary): \n",
    "        self.employeeSalary = employeeSalary\n",
    "        \n",
    "    def printEmployeeDetails(self):\n",
    "        print(self.employeeName)\n",
    "        print(self.emoloyeeAge)\n",
    "        print(self.employeeSalary)\n",
    "        \n",
    "    def printSalaryReport(self): \n",
    "        self.printEmployeeDetails()\n",
    "        \n",
    "    for employee in employees: \n",
    "        employee.printEmployeeDetails() \n",
    "\n",
    "### END CODE"
   ]
  },
  {
   "cell_type": "code",
   "execution_count": 34,
   "metadata": {},
   "outputs": [
    {
     "ename": "IndentationError",
     "evalue": "unexpected indent (<ipython-input-34-4751ffc7f76b>, line 33)",
     "output_type": "error",
     "traceback": [
      "\u001b[0;36m  File \u001b[0;32m\"<ipython-input-34-4751ffc7f76b>\"\u001b[0;36m, line \u001b[0;32m33\u001b[0m\n\u001b[0;31m    for employee in employees:\u001b[0m\n\u001b[0m    ^\u001b[0m\n\u001b[0;31mIndentationError\u001b[0m\u001b[0;31m:\u001b[0m unexpected indent\n"
     ]
    }
   ],
   "source": [
    "### YOUR CODE GOES BELOW\n",
    "class Employee (object):\n",
    "    \n",
    "    def __init__(self,employeeName,employeeAge,employeeSalary): \n",
    "        self.employeeName = employeeName\n",
    "        self.employeeAge = employeeAge\n",
    "        self.employeeSalary = employeeSalary\n",
    "        \n",
    "    def setName(self,employeeName): \n",
    "        self.employeeName = employeeName\n",
    "        \n",
    "    def setAge(self,employeeAge): \n",
    "        self.employeeAge = employeeAge \n",
    "        \n",
    "    def setSalary(self,employeeSalary): \n",
    "        self.employeeSalary = employeeSalary\n",
    "        \n",
    "    def printEmployeeDetails(self):\n",
    "        print(self.employeeName)\n",
    "        print(self.emoloyeeAge)\n",
    "        print(self.employeeSalary)\n",
    "        \n",
    "    def printSalaryReport(self): \n",
    "        self.printEmployeeDetails()\n",
    "        \n",
    "empFile2 = open(\"employees2.txt\",\"r\")\n",
    "\n",
    "employees = []\n",
    "\n",
    "line2 = empFile2.readline()\n",
    "print(line2)\n",
    "        \n",
    "    for employee in employees: \n",
    "        employee.printEmployeeDetails() \n",
    "\n",
    "### END CODE"
   ]
  },
  {
   "cell_type": "code",
   "execution_count": 35,
   "metadata": {},
   "outputs": [
    {
     "name": "stdout",
     "output_type": "stream",
     "text": [
      "age, name, salary \n",
      "\n"
     ]
    },
    {
     "ename": "NameError",
     "evalue": "name 'tokens' is not defined",
     "output_type": "error",
     "traceback": [
      "\u001b[0;31m---------------------------------------------------------------------------\u001b[0m",
      "\u001b[0;31mNameError\u001b[0m                                 Traceback (most recent call last)",
      "\u001b[0;32m<ipython-input-35-1368784f3e86>\u001b[0m in \u001b[0;36m<module>\u001b[0;34m()\u001b[0m\n\u001b[1;32m     38\u001b[0m     \u001b[0mtokens2\u001b[0m \u001b[0;34m=\u001b[0m \u001b[0mline2\u001b[0m\u001b[0;34m.\u001b[0m\u001b[0msplit\u001b[0m\u001b[0;34m(\u001b[0m\u001b[0;34m)\u001b[0m\u001b[0;34m\u001b[0m\u001b[0m\n\u001b[1;32m     39\u001b[0m \u001b[0;34m\u001b[0m\u001b[0m\n\u001b[0;32m---> 40\u001b[0;31m     \u001b[0memployee1\u001b[0m \u001b[0;34m=\u001b[0m \u001b[0mEmployee\u001b[0m\u001b[0;34m(\u001b[0m\u001b[0mtokens\u001b[0m\u001b[0;34m[\u001b[0m\u001b[0;36m0\u001b[0m\u001b[0;34m]\u001b[0m\u001b[0;34m,\u001b[0m\u001b[0mtokens\u001b[0m\u001b[0;34m[\u001b[0m\u001b[0;36m1\u001b[0m\u001b[0;34m]\u001b[0m\u001b[0;34m,\u001b[0m\u001b[0mfloat\u001b[0m\u001b[0;34m(\u001b[0m\u001b[0mtokens\u001b[0m\u001b[0;34m[\u001b[0m\u001b[0;36m2\u001b[0m\u001b[0;34m]\u001b[0m\u001b[0;34m)\u001b[0m\u001b[0;34m)\u001b[0m\u001b[0;34m\u001b[0m\u001b[0m\n\u001b[0m\u001b[1;32m     41\u001b[0m \u001b[0;34m\u001b[0m\u001b[0m\n\u001b[1;32m     42\u001b[0m     \u001b[0memployees2\u001b[0m\u001b[0;34m.\u001b[0m\u001b[0mappend\u001b[0m\u001b[0;34m(\u001b[0m\u001b[0memployee1\u001b[0m\u001b[0;34m)\u001b[0m\u001b[0;34m\u001b[0m\u001b[0m\n",
      "\u001b[0;31mNameError\u001b[0m: name 'tokens' is not defined"
     ]
    }
   ],
   "source": [
    "### YOUR CODE GOES BELOW\n",
    "class Employee (object):\n",
    "    \n",
    "    def __init__(self,employeeName,employeeAge,employeeSalary): \n",
    "        self.employeeName = employeeName\n",
    "        self.employeeAge = employeeAge\n",
    "        self.employeeSalary = employeeSalary\n",
    "        \n",
    "    def setName(self,employeeName): \n",
    "        self.employeeName = employeeName\n",
    "        \n",
    "    def setAge(self,employeeAge): \n",
    "        self.employeeAge = employeeAge \n",
    "        \n",
    "    def setSalary(self,employeeSalary): \n",
    "        self.employeeSalary = employeeSalary\n",
    "        \n",
    "    def printEmployeeDetails(self):\n",
    "        print(self.employeeName)\n",
    "        print(self.emoloyeeAge)\n",
    "        print(self.employeeSalary)\n",
    "        \n",
    "    def printSalaryReport(self): \n",
    "        self.printEmployeeDetails()\n",
    "        \n",
    "empFile2 = open(\"employees2.txt\",\"r\")\n",
    "\n",
    "employees2 = []\n",
    "\n",
    "line2 = empFile2.readline()\n",
    "print(line2)\n",
    "\n",
    "while True: \n",
    "    line2 = empFile2.readline()\n",
    "    if line2 == \"\": \n",
    "        break; \n",
    "        \n",
    "    tokens2 = line2.split() \n",
    "    \n",
    "    employee1 = Employee(tokens[0],tokens[1],float(tokens[2]))\n",
    "    \n",
    "    employees2.append(employee1)\n",
    "        \n",
    "for employee1 in employees2: \n",
    "    employee1.printEmployeeDetails() \n",
    "\n",
    "### END CODE"
   ]
  },
  {
   "cell_type": "code",
   "execution_count": 36,
   "metadata": {},
   "outputs": [
    {
     "ename": "UnsupportedOperation",
     "evalue": "not readable",
     "output_type": "error",
     "traceback": [
      "\u001b[0;31m---------------------------------------------------------------------------\u001b[0m",
      "\u001b[0;31mUnsupportedOperation\u001b[0m                      Traceback (most recent call last)",
      "\u001b[0;32m<ipython-input-36-19b7e5fcb490>\u001b[0m in \u001b[0;36m<module>\u001b[0;34m()\u001b[0m\n\u001b[1;32m     28\u001b[0m \u001b[0memployees2\u001b[0m \u001b[0;34m=\u001b[0m \u001b[0;34m[\u001b[0m\u001b[0;34m]\u001b[0m\u001b[0;34m\u001b[0m\u001b[0m\n\u001b[1;32m     29\u001b[0m \u001b[0;34m\u001b[0m\u001b[0m\n\u001b[0;32m---> 30\u001b[0;31m \u001b[0mline2\u001b[0m \u001b[0;34m=\u001b[0m \u001b[0mempFile2\u001b[0m\u001b[0;34m.\u001b[0m\u001b[0mreadline\u001b[0m\u001b[0;34m(\u001b[0m\u001b[0;34m)\u001b[0m\u001b[0;34m\u001b[0m\u001b[0m\n\u001b[0m\u001b[1;32m     31\u001b[0m \u001b[0mprint\u001b[0m\u001b[0;34m(\u001b[0m\u001b[0mline2\u001b[0m\u001b[0;34m)\u001b[0m\u001b[0;34m\u001b[0m\u001b[0m\n\u001b[1;32m     32\u001b[0m \u001b[0;34m\u001b[0m\u001b[0m\n",
      "\u001b[0;31mUnsupportedOperation\u001b[0m: not readable"
     ]
    }
   ],
   "source": [
    "### YOUR CODE GOES BELOW\n",
    "class Employee (object):\n",
    "    \n",
    "    def __init__(self,employeeName,employeeAge,employeeSalary): \n",
    "        self.employeeName = employeeName\n",
    "        self.employeeAge = employeeAge\n",
    "        self.employeeSalary = employeeSalary\n",
    "        \n",
    "    def setName(self,employeeName): \n",
    "        self.employeeName = employeeName\n",
    "        \n",
    "    def setAge(self,employeeAge): \n",
    "        self.employeeAge = employeeAge \n",
    "        \n",
    "    def setSalary(self,employeeSalary): \n",
    "        self.employeeSalary = employeeSalary\n",
    "        \n",
    "    def printEmployeeDetails(self):\n",
    "        print(self.employeeName)\n",
    "        print(self.emoloyeeAge)\n",
    "        print(self.employeeSalary)\n",
    "        \n",
    "    def printSalaryReport(self): \n",
    "        self.printEmployeeDetails()\n",
    "        \n",
    "empFile2 = open(\"employees2.txt\",\"w\")\n",
    "\n",
    "employees2 = []\n",
    "\n",
    "line2 = empFile2.readline()\n",
    "print(line2)\n",
    "\n",
    "while True: \n",
    "    line2 = empFile2.readline()\n",
    "    if line2 == \"\": \n",
    "        break; \n",
    "        \n",
    "    tokens2 = line2.split() \n",
    "    \n",
    "    employee1 = Employee(tokens[0],tokens[1],float(tokens[2]))\n",
    "    \n",
    "    employees2.append(employee1)\n",
    "        \n",
    "for employee1 in employees2: \n",
    "    employee1.printEmployeeDetails() \n",
    "\n",
    "### END CODE"
   ]
  },
  {
   "cell_type": "code",
   "execution_count": 37,
   "metadata": {},
   "outputs": [
    {
     "name": "stdout",
     "output_type": "stream",
     "text": [
      "\n"
     ]
    }
   ],
   "source": [
    "### YOUR CODE GOES BELOW\n",
    "class Employee (object):\n",
    "    \n",
    "    def __init__(self,employeeName,employeeAge,employeeSalary): \n",
    "        self.employeeName = employeeName\n",
    "        self.employeeAge = employeeAge\n",
    "        self.employeeSalary = employeeSalary\n",
    "        \n",
    "    def setName(self,employeeName): \n",
    "        self.employeeName = employeeName\n",
    "        \n",
    "    def setAge(self,employeeAge): \n",
    "        self.employeeAge = employeeAge \n",
    "        \n",
    "    def setSalary(self,employeeSalary): \n",
    "        self.employeeSalary = employeeSalary\n",
    "        \n",
    "    def printEmployeeDetails(self):\n",
    "        print(self.employeeName)\n",
    "        print(self.emoloyeeAge)\n",
    "        print(self.employeeSalary)\n",
    "        \n",
    "    def printSalaryReport(self): \n",
    "        self.printEmployeeDetails()\n",
    "        \n",
    "empFile2 = open(\"employees2.txt\",\"r\")\n",
    "\n",
    "employees2 = []\n",
    "\n",
    "line2 = empFile2.readline()\n",
    "print(line2)\n",
    "\n",
    "while True: \n",
    "    line2 = empFile2.readline()\n",
    "    if line2 == \"\": \n",
    "        break; \n",
    "        \n",
    "    tokens2 = line2.split() \n",
    "    \n",
    "    employee1 = Employee(tokens[0],tokens[1],float(tokens[2]))\n",
    "    \n",
    "    employees2.append(employee1)\n",
    "        \n",
    "for employee1 in employees2: \n",
    "    employee1.printEmployeeDetails() \n",
    "\n",
    "### END CODE"
   ]
  },
  {
   "cell_type": "code",
   "execution_count": 38,
   "metadata": {},
   "outputs": [
    {
     "name": "stdout",
     "output_type": "stream",
     "text": [
      "\n"
     ]
    }
   ],
   "source": [
    "### YOUR CODE GOES BELOW\n",
    "class Employee (object):\n",
    "    \n",
    "    def __init__(self,employeeName,employeeAge,employeeSalary): \n",
    "        self.employeeName = employeeName\n",
    "        self.employeeAge = employeeAge\n",
    "        self.employeeSalary = employeeSalary\n",
    "        \n",
    "    def setName(self,employeeName): \n",
    "        self.employeeName = employeeName\n",
    "        \n",
    "    def setAge(self,employeeAge): \n",
    "        self.employeeAge = employeeAge \n",
    "        \n",
    "    def setSalary(self,employeeSalary): \n",
    "        self.employeeSalary = employeeSalary\n",
    "        \n",
    "    def printEmployeeDetails(self):\n",
    "        print(self.employeeName)\n",
    "        print(self.emoloyeeAge)\n",
    "        print(self.employeeSalary)\n",
    "        \n",
    "    def printSalaryReport(self): \n",
    "        self.printEmployeeDetails()\n",
    "        \n",
    "empFile2 = open(\"employees2.txt\",\"r\")\n",
    "\n",
    "employees2 = []\n",
    "\n",
    "line2 = empFile2.readline()\n",
    "print(line2)\n",
    "\n",
    "while True: \n",
    "    line2 = empFile2.readline()\n",
    "    if line2 == \"\": \n",
    "        break; \n",
    "        \n",
    "    tokens2 = line2.split() \n",
    "    \n",
    "    employee1 = Employee(tokens2[0],tokens2[1],float(tokens2[2]))\n",
    "    \n",
    "    employees2.append(employee1)\n",
    "        \n",
    "for employee1 in employees2: \n",
    "    employee1.printEmployeeDetails() \n",
    "\n",
    "### END CODE"
   ]
  },
  {
   "cell_type": "code",
   "execution_count": 16,
   "metadata": {},
   "outputs": [
    {
     "name": "stdout",
     "output_type": "stream",
     "text": [
      "age, name, salary \n",
      "\n",
      "21,\n",
      "Ryan,\n",
      "10000.48\n",
      "18,\n",
      "Justin,\n",
      "500.64\n",
      "50,\n",
      "Michelle,\n",
      "4572.73\n"
     ]
    }
   ],
   "source": [
    "### YOUR CODE GOES BELOW\n",
    "class Employee (object):\n",
    "    \n",
    "    def __init__(self,employeeName,employeeAge,employeeSalary): \n",
    "        self.employeeName = employeeName\n",
    "        self.employeeAge = employeeAge\n",
    "        self.employeeSalary = employeeSalary\n",
    "        \n",
    "    def setName(self,employeeName): \n",
    "        self.employeeName = employeeName\n",
    "        \n",
    "    def setAge(self,employeeAge): \n",
    "        self.employeeAge = employeeAge \n",
    "        \n",
    "    def setSalary(self,employeeSalary): \n",
    "        self.employeeSalary = employeeSalary\n",
    "        \n",
    "    def printEmployeeDetails(self):\n",
    "        print(self.employeeName)\n",
    "        print(self.employeeAge)\n",
    "        print(self.employeeSalary)\n",
    "        \n",
    "    def printSalaryReport(self): \n",
    "        self.printEmployeeDetails()\n",
    "        \n",
    "empFile2 = open(\"employees2.txt\",\"r\")\n",
    "\n",
    "employees2 = []\n",
    "\n",
    "line2 = empFile2.readline()\n",
    "print(line2)\n",
    "\n",
    "while True: \n",
    "    line2 = empFile2.readline()\n",
    "    if line2 == \"\": \n",
    "        break; \n",
    "        \n",
    "    tokens2 = line2.split() \n",
    "    \n",
    "    employee1 = Employee(tokens2[0],tokens2[1],float(tokens2[2]))\n",
    "    \n",
    "    employees2.append(employee1)\n",
    "        \n",
    "for employee1 in employees2: \n",
    "    employee1.printEmployeeDetails() \n",
    "\n",
    "### END CODE"
   ]
  },
  {
   "cell_type": "markdown",
   "metadata": {},
   "source": [
    "#### Exercise 5 -  Creating a Python calculator class\n",
    "\n",
    "Create a Python class called Calculator. \n",
    "\n",
    "The class has the following data members\n",
    "\n",
    "```\n",
    "1. number1 - type float\n",
    "2. number2 - type float\n",
    "```\n",
    "\n",
    "The class must have the below methods\n",
    "\n",
    "```\n",
    "1. add - adds two numbers and returns the result\n",
    "2. subtract - subtracts the first number from the second number and returns the result\n",
    "3. multiply - multiply two numbers and returns the result\n",
    "4. divide - divide the first number by the second number and returns the result\n",
    "5. __init__ - accepts two numbers and uses those numbers to initialize number1 and number2 respectively\n",
    "```\n",
    "\n",
    "Create an object of the Calculator class. Initialize it with any two arbitrary numbers. Invoke the methods add, subtract, multiple and divide and display the result\n",
    "\n",
    "\n"
   ]
  },
  {
   "cell_type": "code",
   "execution_count": 39,
   "metadata": {},
   "outputs": [
    {
     "ename": "NameError",
     "evalue": "name 'Calculator' is not defined",
     "output_type": "error",
     "traceback": [
      "\u001b[0;31m---------------------------------------------------------------------------\u001b[0m",
      "\u001b[0;31mNameError\u001b[0m                                 Traceback (most recent call last)",
      "\u001b[0;32m<ipython-input-39-f39ff5924602>\u001b[0m in \u001b[0;36m<module>\u001b[0;34m()\u001b[0m\n\u001b[1;32m      2\u001b[0m \u001b[0;32mimport\u001b[0m \u001b[0mmath\u001b[0m\u001b[0;34m\u001b[0m\u001b[0m\n\u001b[1;32m      3\u001b[0m \u001b[0;34m\u001b[0m\u001b[0m\n\u001b[0;32m----> 4\u001b[0;31m \u001b[0;32mclass\u001b[0m \u001b[0mCalculator\u001b[0m\u001b[0;34m(\u001b[0m\u001b[0mobject\u001b[0m\u001b[0;34m)\u001b[0m\u001b[0;34m:\u001b[0m\u001b[0;34m\u001b[0m\u001b[0m\n\u001b[0m\u001b[1;32m      5\u001b[0m     \u001b[0mcalc\u001b[0m \u001b[0;34m=\u001b[0m \u001b[0mCalculator\u001b[0m\u001b[0;34m(\u001b[0m\u001b[0mnumber1\u001b[0m\u001b[0;34m,\u001b[0m\u001b[0mnumber2\u001b[0m\u001b[0;34m)\u001b[0m\u001b[0;34m\u001b[0m\u001b[0m\n\u001b[1;32m      6\u001b[0m \u001b[0;34m\u001b[0m\u001b[0m\n",
      "\u001b[0;32m<ipython-input-39-f39ff5924602>\u001b[0m in \u001b[0;36mCalculator\u001b[0;34m()\u001b[0m\n\u001b[1;32m      3\u001b[0m \u001b[0;34m\u001b[0m\u001b[0m\n\u001b[1;32m      4\u001b[0m \u001b[0;32mclass\u001b[0m \u001b[0mCalculator\u001b[0m\u001b[0;34m(\u001b[0m\u001b[0mobject\u001b[0m\u001b[0;34m)\u001b[0m\u001b[0;34m:\u001b[0m\u001b[0;34m\u001b[0m\u001b[0m\n\u001b[0;32m----> 5\u001b[0;31m     \u001b[0mcalc\u001b[0m \u001b[0;34m=\u001b[0m \u001b[0mCalculator\u001b[0m\u001b[0;34m(\u001b[0m\u001b[0mnumber1\u001b[0m\u001b[0;34m,\u001b[0m\u001b[0mnumber2\u001b[0m\u001b[0;34m)\u001b[0m\u001b[0;34m\u001b[0m\u001b[0m\n\u001b[0m\u001b[1;32m      6\u001b[0m \u001b[0;34m\u001b[0m\u001b[0m\n\u001b[1;32m      7\u001b[0m     \u001b[0;32mdef\u001b[0m \u001b[0m__init__\u001b[0m\u001b[0;34m(\u001b[0m\u001b[0mcalc\u001b[0m\u001b[0;34m,\u001b[0m\u001b[0madd\u001b[0m\u001b[0;34m)\u001b[0m\u001b[0;34m:\u001b[0m\u001b[0;34m\u001b[0m\u001b[0m\n",
      "\u001b[0;31mNameError\u001b[0m: name 'Calculator' is not defined"
     ]
    }
   ],
   "source": [
    "### YOUR CODE GOES \n",
    "import math\n",
    "\n",
    "class Calculator(object):\n",
    "    calc = Calculator(number1,number2) \n",
    "    \n",
    "    def __init__(calc,add):\n",
    "        addition = calc.add(8,10) \n",
    "    \n",
    "    def __init__(calc,subtract): \n",
    "        subtraction = calc.subtract(90,20)\n",
    "        \n",
    "    def __init(calc,multiply): \n",
    "        multiplication = calc.multiply(9,12)\n",
    "        \n",
    "    def __init(calc,divide): \n",
    "        division = calc.divide(15,5) \n",
    "        \n",
    "### END CODE"
   ]
  },
  {
   "cell_type": "code",
   "execution_count": 40,
   "metadata": {},
   "outputs": [
    {
     "ename": "SyntaxError",
     "evalue": "invalid syntax (<ipython-input-40-281557d5efec>, line 50)",
     "output_type": "error",
     "traceback": [
      "\u001b[0;36m  File \u001b[0;32m\"<ipython-input-40-281557d5efec>\"\u001b[0;36m, line \u001b[0;32m50\u001b[0m\n\u001b[0;31m    elif (choice == 0):\u001b[0m\n\u001b[0m       ^\u001b[0m\n\u001b[0;31mSyntaxError\u001b[0m\u001b[0;31m:\u001b[0m invalid syntax\n"
     ]
    }
   ],
   "source": [
    "### YOUR CODE GOES \n",
    "import math\n",
    "\n",
    "class Calculator(object):\n",
    "    calc = Calculator(number1,number2) \n",
    "    \n",
    "    def __init__(self,number1,number2):\n",
    "        self.number1 = number1\n",
    "        self.number2 = number2\n",
    "        \n",
    "    def add(self): \n",
    "        return self.number1 + self.number2\n",
    "    \n",
    "    def subtract(self): \n",
    "        return self.number1 - self.number2 \n",
    "    \n",
    "    def multiply(self):\n",
    "        return self.number1 * self.number2 \n",
    "        \n",
    "    def divide(self):\n",
    "        return self.number1 / self.number2\n",
    "    \n",
    "    number1 = int(input(\"Enter the first number: \"))\n",
    "    \n",
    "    number2 = int(input(\"Enter the second number: \"))\n",
    "    \n",
    "    choice = 1 \n",
    "    \n",
    "    while choice != 0: \n",
    "        print(\"0: Exit\")\n",
    "        print(\"1: Add\")\n",
    "        print(\"2: Subtract\")\n",
    "        print(\"3: Multiply\")\n",
    "        print(\"4: Divide\")\n",
    "        \n",
    "        choice = int(input(\"Enter choice:\"))\n",
    "        \n",
    "        if (choice == 1): \n",
    "            print(\"Result: \", calc.add())\n",
    "            \n",
    "        elif (choice == 2): \n",
    "            print(\"Result: \", calc.subtract())\n",
    "            \n",
    "        elif (choice == 3):\n",
    "            print(\"Result: \", calc.multiply())\n",
    "            \n",
    "        elif (choice == 4): \n",
    "            print(\"Result: \", round(calc.divide(),2)\n",
    "    \n",
    "        elif (choice == 0):\n",
    "            print(\"Exiting!\") \n",
    "                  \n",
    "        else: \n",
    "            print(\"Invalid choice.\")\n",
    "                  \n",
    "print() \n",
    "        \n",
    "### END CODE"
   ]
  },
  {
   "cell_type": "code",
   "execution_count": 41,
   "metadata": {},
   "outputs": [
    {
     "ename": "SyntaxError",
     "evalue": "invalid syntax (<ipython-input-41-ab6ffc217139>, line 53)",
     "output_type": "error",
     "traceback": [
      "\u001b[0;36m  File \u001b[0;32m\"<ipython-input-41-ab6ffc217139>\"\u001b[0;36m, line \u001b[0;32m53\u001b[0m\n\u001b[0;31m    else:\u001b[0m\n\u001b[0m       ^\u001b[0m\n\u001b[0;31mSyntaxError\u001b[0m\u001b[0;31m:\u001b[0m invalid syntax\n"
     ]
    }
   ],
   "source": [
    "### YOUR CODE GOES \n",
    "import math\n",
    "\n",
    "class Calculator(object):\n",
    "    calc = Calculator(number1,number2) \n",
    "    \n",
    "    def __init__(self,number1,number2):\n",
    "        self.number1 = number1\n",
    "        self.number2 = number2\n",
    "        \n",
    "    def add(self): \n",
    "        return self.number1 + self.number2\n",
    "    \n",
    "    def subtract(self): \n",
    "        return self.number1 - self.number2 \n",
    "    \n",
    "    def multiply(self):\n",
    "        return self.number1 * self.number2 \n",
    "        \n",
    "    def divide(self):\n",
    "        return self.number1 / self.number2\n",
    "    \n",
    "    number1 = int(input(\"Enter the first number: \"))\n",
    "    \n",
    "    number2 = int(input(\"Enter the second number: \"))\n",
    "    \n",
    "    choice = 1 \n",
    "    \n",
    "    while choice != 0: \n",
    "        print(\"0: Exit\")\n",
    "        print(\"1: Add\")\n",
    "        print(\"2: Subtract\")\n",
    "        print(\"3: Multiply\")\n",
    "        print(\"4: Divide\")\n",
    "        \n",
    "        choice = int(input(\"Enter choice:\"))\n",
    "            \n",
    "        if (choice == 0):\n",
    "            print(\"Exiting!\") \n",
    "        \n",
    "        elif (choice == 1): \n",
    "            print(\"Result: \", calc.add())\n",
    "            \n",
    "        elif (choice == 2): \n",
    "            print(\"Result: \", calc.subtract())\n",
    "            \n",
    "        elif (choice == 3):\n",
    "            print(\"Result: \", calc.multiply())\n",
    "            \n",
    "        elif (choice == 4): \n",
    "            print(\"Result: \", round(calc.divide(),2)\n",
    "                  \n",
    "        else: \n",
    "            print(\"Invalid choice.\")\n",
    "        \n",
    "### END CODE"
   ]
  },
  {
   "cell_type": "code",
   "execution_count": 42,
   "metadata": {},
   "outputs": [
    {
     "ename": "SyntaxError",
     "evalue": "unexpected EOF while parsing (<ipython-input-42-97eefa124d04>, line 53)",
     "output_type": "error",
     "traceback": [
      "\u001b[0;36m  File \u001b[0;32m\"<ipython-input-42-97eefa124d04>\"\u001b[0;36m, line \u001b[0;32m53\u001b[0m\n\u001b[0;31m    ### END CODE\u001b[0m\n\u001b[0m                ^\u001b[0m\n\u001b[0;31mSyntaxError\u001b[0m\u001b[0;31m:\u001b[0m unexpected EOF while parsing\n"
     ]
    }
   ],
   "source": [
    "### YOUR CODE GOES \n",
    "import math\n",
    "\n",
    "class Calculator(object):\n",
    "    calc = Calculator(number1,number2) \n",
    "    \n",
    "    def __init__(self,number1,number2):\n",
    "        self.number1 = number1\n",
    "        self.number2 = number2\n",
    "        \n",
    "    def add(self): \n",
    "        return self.number1 + self.number2\n",
    "    \n",
    "    def subtract(self): \n",
    "        return self.number1 - self.number2 \n",
    "    \n",
    "    def multiply(self):\n",
    "        return self.number1 * self.number2 \n",
    "        \n",
    "    def divide(self):\n",
    "        return self.number1 / self.number2\n",
    "    \n",
    "    number1 = int(input(\"Enter the first number: \"))\n",
    "    \n",
    "    number2 = int(input(\"Enter the second number: \"))\n",
    "    \n",
    "    choice = 1 \n",
    "    \n",
    "    while choice != 0: \n",
    "        print(\"0: Exit\")\n",
    "        print(\"1: Add\")\n",
    "        print(\"2: Subtract\")\n",
    "        print(\"3: Multiply\")\n",
    "        print(\"4: Divide\")\n",
    "        \n",
    "        choice = int(input(\"Enter choice:\"))\n",
    "            \n",
    "        if (choice == 0):\n",
    "            print(\"Exiting!\") \n",
    "        \n",
    "        elif (choice == 1): \n",
    "            print(\"Result: \", calc.add())\n",
    "            \n",
    "        elif (choice == 2): \n",
    "            print(\"Result: \", calc.subtract())\n",
    "            \n",
    "        elif (choice == 3):\n",
    "            print(\"Result: \", calc.multiply())\n",
    "            \n",
    "        elif (choice == 4): \n",
    "            print(\"Result: \", round(calc.divide(),2)\n",
    "        \n",
    "### END CODE"
   ]
  },
  {
   "cell_type": "code",
   "execution_count": 43,
   "metadata": {
    "scrolled": true
   },
   "outputs": [
    {
     "ename": "SyntaxError",
     "evalue": "unexpected EOF while parsing (<ipython-input-43-616fdf5802f2>, line 51)",
     "output_type": "error",
     "traceback": [
      "\u001b[0;36m  File \u001b[0;32m\"<ipython-input-43-616fdf5802f2>\"\u001b[0;36m, line \u001b[0;32m51\u001b[0m\n\u001b[0;31m    ### END CODE\u001b[0m\n\u001b[0m                ^\u001b[0m\n\u001b[0;31mSyntaxError\u001b[0m\u001b[0;31m:\u001b[0m unexpected EOF while parsing\n"
     ]
    }
   ],
   "source": [
    "### YOUR CODE GOES \n",
    "import math\n",
    "\n",
    "class Calculator(object):\n",
    "    calc = Calculator(number1,number2) \n",
    "    \n",
    "    def __init__(self,number1,number2):\n",
    "        self.number1 = number1\n",
    "        self.number2 = number2\n",
    "        \n",
    "    def add(self): \n",
    "        return self.number1 + self.number2\n",
    "    \n",
    "    def subtract(self): \n",
    "        return self.number1 - self.number2 \n",
    "    \n",
    "    def multiply(self):\n",
    "        return self.number1 * self.number2 \n",
    "        \n",
    "    def divide(self):\n",
    "        return self.number1 / self.number2\n",
    "    \n",
    "    number1 = int(input(\"Enter the first number: \"))\n",
    "    \n",
    "    number2 = int(input(\"Enter the second number: \"))\n",
    "    \n",
    "    while choice != 0: \n",
    "        print(\"0: Exit\")\n",
    "        print(\"1: Add\")\n",
    "        print(\"2: Subtract\")\n",
    "        print(\"3: Multiply\")\n",
    "        print(\"4: Divide\")\n",
    "        \n",
    "        choice = int(input(\"Enter choice:\"))\n",
    "            \n",
    "        if (choice == 0):\n",
    "            print(\"Exiting!\") \n",
    "        \n",
    "        elif (choice == 1): \n",
    "            print(\"Result: \", calc.add())\n",
    "            \n",
    "        elif (choice == 2): \n",
    "            print(\"Result: \", calc.subtract())\n",
    "            \n",
    "        elif (choice == 3):\n",
    "            print(\"Result: \", calc.multiply())\n",
    "            \n",
    "        else: \n",
    "            print(\"Result: \", round(calc.divide(),2)\n",
    "        \n",
    "### END CODE"
   ]
  },
  {
   "cell_type": "markdown",
   "metadata": {},
   "source": [
    "# Optional Exercise"
   ]
  },
  {
   "cell_type": "markdown",
   "metadata": {},
   "source": [
    "#### Exercise 6"
   ]
  },
  {
   "cell_type": "markdown",
   "metadata": {
    "collapsed": true
   },
   "source": [
    "In the next two problems, you’ll be building an address book using object-­‐oriented programming in Python. To begin, you’ll define a Person class. You’ll use this class in the next problem to build your address book – each entry in your address book will be an instance of the Person class.\n",
    "\n",
    "To begin, define the    init    and    str    methods for the Person class. Read the Python documentation if needed to help you understand what    init__ and    str \t need to do.\n",
    "\n",
    "Here’s an example interaction in the Python shell demonstrating how your class should work after implementing these two methods:"
   ]
  },
  {
   "cell_type": "raw",
   "metadata": {},
   "source": [
    "Emily = Person(“Zhang”, “Emily”, “5559358150”, “emzhang@mit.edu”)\n",
    "print Emily\n",
    "Zhang, Emily -- Phone Number: 5559358150 -- Email Address(es): emzhang@mit.edu\n",
    "Wesley = Person(“Graybill”, “Wesley”, “5551940325”, [‘wgray496@mit.edu’, ‘wdgraybill@gmail.com’])\n",
    "print Wesley\n",
    "Graybill, Wesley -- Phone Number: 5551940325 -- Email Address(es): wgray496@mit.edu, wdgraybill@gmail.com"
   ]
  },
  {
   "cell_type": "code",
   "execution_count": 5,
   "metadata": {},
   "outputs": [],
   "source": [
    "### YOUR CODE GOES \n",
    "\n",
    "\n",
    "### END CODE"
   ]
  },
  {
   "cell_type": "markdown",
   "metadata": {},
   "source": [
    "#### Exercise 7"
   ]
  },
  {
   "cell_type": "markdown",
   "metadata": {},
   "source": [
    "In this problem, you will use your Person class from the previous problem to create an address book for storing the contacts of your friends and family. It should allow you to search the address book for a friend, and return their contact information.\n",
    "\n",
    "Begin by defining an   init   method. Don’t forget about Python's built-­‐in dictionary data type.\n",
    "\n",
    "Next, write a method add_contact that allows you to add a new person to the address book.\n",
    "\n",
    "Finally, write a method lookup_contact that looks up a contact by last name. The method should accept the last name as an argument, and print each contact that matches the last name on a new line. As an additional challenge, extend this method to allow users to optionally specify a first name to narrow down the results when multiple contacts have the same last name. To learn more about optional arguments in Python, search for terms such as “optional arguments in Python” and “default arguments in Python”.\n",
    "\n",
    "For example, suppose the contact book contains entries for both Ali Kamil, and his wife Sama Kamil. The following is an example output:\n"
   ]
  },
  {
   "cell_type": "raw",
   "metadata": {},
   "source": [
    ">>> a = AddressBook()\n",
    ">>> a.add_person(Person(“Kamil”, “Ali”, … ))\n",
    ">>> a.add_person(Person(“Kamil”, “Sama”, … ))\n",
    ">>> a.lookup_contact(“Kamil”) Kamil, Ali -- Phone Number: … Kamil, Sama -- Phone Number: …\n",
    ">>> a.lookup_contact(“Kamil”, “Ali”)\n",
    "Kamil, Ali -- Phone Number: …\n"
   ]
  },
  {
   "cell_type": "code",
   "execution_count": 6,
   "metadata": {
    "collapsed": true
   },
   "outputs": [],
   "source": [
    "### YOUR CODE GOES \n",
    "\n",
    "\n",
    "### END CODE"
   ]
  },
  {
   "cell_type": "code",
   "execution_count": null,
   "metadata": {
    "collapsed": true
   },
   "outputs": [],
   "source": []
  }
 ],
 "metadata": {
  "kernelspec": {
   "display_name": "Python 3",
   "language": "python",
   "name": "python3"
  },
  "language_info": {
   "codemirror_mode": {
    "name": "ipython",
    "version": 3
   },
   "file_extension": ".py",
   "mimetype": "text/x-python",
   "name": "python",
   "nbconvert_exporter": "python",
   "pygments_lexer": "ipython3",
   "version": "3.6.5"
  }
 },
 "nbformat": 4,
 "nbformat_minor": 2
}
